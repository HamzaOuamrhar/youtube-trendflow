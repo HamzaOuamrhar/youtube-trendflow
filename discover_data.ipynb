{
 "cells": [
  {
   "cell_type": "markdown",
   "id": "176fbd9a",
   "metadata": {},
   "source": [
    "<h1>Canada region videos data</h1>"
   ]
  },
  {
   "cell_type": "code",
   "execution_count": 2,
   "id": "2b52f352",
   "metadata": {},
   "outputs": [
    {
     "name": "stdout",
     "output_type": "stream",
     "text": [
      "Index(['video_id', 'trending_date', 'title', 'channel_title', 'category_id',\n",
      "       'publish_time', 'tags', 'views', 'likes', 'dislikes', 'comment_count',\n",
      "       'thumbnail_link', 'comments_disabled', 'ratings_disabled',\n",
      "       'video_error_or_removed', 'description'],\n",
      "      dtype='object')\n"
     ]
    }
   ],
   "source": [
    "import pandas as pd\n",
    "\n",
    "df = pd.read_csv('data/CAvideos.csv')\n",
    "\n",
    "print(df.columns)"
   ]
  },
  {
   "cell_type": "code",
   "execution_count": 11,
   "id": "4a1e3acb",
   "metadata": {},
   "outputs": [
    {
     "data": {
      "text/plain": [
       "video_id                     0\n",
       "trending_date                0\n",
       "title                        0\n",
       "channel_title                0\n",
       "category_id                  0\n",
       "publish_time                 0\n",
       "tags                         0\n",
       "views                        0\n",
       "likes                        0\n",
       "dislikes                     0\n",
       "comment_count                0\n",
       "thumbnail_link               0\n",
       "comments_disabled            0\n",
       "ratings_disabled             0\n",
       "video_error_or_removed       0\n",
       "description               1296\n",
       "dtype: int64"
      ]
     },
     "execution_count": 11,
     "metadata": {},
     "output_type": "execute_result"
    }
   ],
   "source": [
    "df.isnull().sum()"
   ]
  },
  {
   "cell_type": "code",
   "execution_count": 3,
   "id": "62cf8b51",
   "metadata": {},
   "outputs": [
    {
     "name": "stdout",
     "output_type": "stream",
     "text": [
      "0    Eminem - Walk On Water (Audio) ft. Beyoncé\n",
      "Name: title, dtype: object\n"
     ]
    }
   ],
   "source": [
    "print(df.head(1)['title'])"
   ]
  },
  {
   "cell_type": "code",
   "execution_count": 4,
   "id": "4af4675b",
   "metadata": {},
   "outputs": [
    {
     "name": "stdout",
     "output_type": "stream",
     "text": [
      "0    EminemVEVO\n",
      "Name: channel_title, dtype: object\n"
     ]
    }
   ],
   "source": [
    "print(df.head(1)['channel_title'])"
   ]
  },
  {
   "cell_type": "code",
   "execution_count": 5,
   "id": "db677d6f",
   "metadata": {},
   "outputs": [
    {
     "name": "stdout",
     "output_type": "stream",
     "text": [
      "0    10\n",
      "1    23\n",
      "2    23\n",
      "3    24\n",
      "4    10\n",
      "5    25\n",
      "6    23\n",
      "7    22\n",
      "8    24\n",
      "9    22\n",
      "Name: category_id, dtype: int64\n"
     ]
    }
   ],
   "source": [
    "print(df.head(10)['category_id'])"
   ]
  },
  {
   "cell_type": "code",
   "execution_count": 6,
   "id": "0a04d1fa",
   "metadata": {},
   "outputs": [
    {
     "name": "stdout",
     "output_type": "stream",
     "text": [
      "0    17.14.11\n",
      "Name: trending_date, dtype: object\n"
     ]
    }
   ],
   "source": [
    "print(df.head(1)['trending_date'])"
   ]
  },
  {
   "cell_type": "code",
   "execution_count": 7,
   "id": "d3ccaecf",
   "metadata": {},
   "outputs": [],
   "source": [
    "df['trending_date'] = pd.to_datetime(df['trending_date'], format='%y.%d.%m')"
   ]
  },
  {
   "cell_type": "code",
   "execution_count": 8,
   "id": "cd117308",
   "metadata": {},
   "outputs": [
    {
     "name": "stdout",
     "output_type": "stream",
     "text": [
      "trending_start_date: 2017-11-14 00:00:00 | trending_end_date: 2018-06-14 00:00:00\n"
     ]
    }
   ],
   "source": [
    "start_date = df['trending_date'].min()\n",
    "end_date = df['trending_date'].max()\n",
    "print(f\"trending_start_date: {start_date} | trending_end_date: {end_date}\")"
   ]
  },
  {
   "cell_type": "code",
   "execution_count": 12,
   "id": "eab33544",
   "metadata": {},
   "outputs": [
    {
     "name": "stdout",
     "output_type": "stream",
     "text": [
      "40881\n"
     ]
    }
   ],
   "source": [
    "print(len(df))"
   ]
  },
  {
   "cell_type": "markdown",
   "id": "6f62309a",
   "metadata": {},
   "source": [
    "<h1>Categories data</h1>"
   ]
  },
  {
   "cell_type": "code",
   "execution_count": 17,
   "id": "d3388537",
   "metadata": {},
   "outputs": [
    {
     "name": "stdout",
     "output_type": "stream",
     "text": [
      "31\n"
     ]
    },
    {
     "data": {
      "text/html": [
       "<div>\n",
       "<style scoped>\n",
       "    .dataframe tbody tr th:only-of-type {\n",
       "        vertical-align: middle;\n",
       "    }\n",
       "\n",
       "    .dataframe tbody tr th {\n",
       "        vertical-align: top;\n",
       "    }\n",
       "\n",
       "    .dataframe thead th {\n",
       "        text-align: right;\n",
       "    }\n",
       "</style>\n",
       "<table border=\"1\" class=\"dataframe\">\n",
       "  <thead>\n",
       "    <tr style=\"text-align: right;\">\n",
       "      <th></th>\n",
       "      <th>category_id</th>\n",
       "      <th>category_title</th>\n",
       "    </tr>\n",
       "  </thead>\n",
       "  <tbody>\n",
       "    <tr>\n",
       "      <th>0</th>\n",
       "      <td>1</td>\n",
       "      <td>Film &amp; Animation</td>\n",
       "    </tr>\n",
       "    <tr>\n",
       "      <th>1</th>\n",
       "      <td>2</td>\n",
       "      <td>Autos &amp; Vehicles</td>\n",
       "    </tr>\n",
       "    <tr>\n",
       "      <th>2</th>\n",
       "      <td>10</td>\n",
       "      <td>Music</td>\n",
       "    </tr>\n",
       "    <tr>\n",
       "      <th>3</th>\n",
       "      <td>15</td>\n",
       "      <td>Pets &amp; Animals</td>\n",
       "    </tr>\n",
       "    <tr>\n",
       "      <th>4</th>\n",
       "      <td>17</td>\n",
       "      <td>Sports</td>\n",
       "    </tr>\n",
       "  </tbody>\n",
       "</table>\n",
       "</div>"
      ],
      "text/plain": [
       "  category_id    category_title\n",
       "0           1  Film & Animation\n",
       "1           2  Autos & Vehicles\n",
       "2          10             Music\n",
       "3          15    Pets & Animals\n",
       "4          17            Sports"
      ]
     },
     "execution_count": 17,
     "metadata": {},
     "output_type": "execute_result"
    }
   ],
   "source": [
    "import json\n",
    "\n",
    "with open('data/categories.json') as f:\n",
    "    categories = json.load(f)\n",
    "\n",
    "categories_df = pd.json_normalize(categories['items'])\n",
    "categories_df = categories_df[['id', 'snippet.title']]\n",
    "categories_df.columns = ['category_id', 'category_title']\n",
    "\n",
    "print(len(categories_df))\n",
    "categories_df.head()"
   ]
  }
 ],
 "metadata": {
  "kernelspec": {
   "display_name": ".venv",
   "language": "python",
   "name": "python3"
  },
  "language_info": {
   "codemirror_mode": {
    "name": "ipython",
    "version": 3
   },
   "file_extension": ".py",
   "mimetype": "text/x-python",
   "name": "python",
   "nbconvert_exporter": "python",
   "pygments_lexer": "ipython3",
   "version": "3.13.3"
  }
 },
 "nbformat": 4,
 "nbformat_minor": 5
}
